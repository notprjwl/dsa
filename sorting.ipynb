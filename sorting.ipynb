{
 "cells": [
  {
   "cell_type": "code",
   "execution_count": 5,
   "metadata": {},
   "outputs": [
    {
     "name": "stdout",
     "output_type": "stream",
     "text": [
      "[1, 1, 2, 4, 5, 6, 7]\n"
     ]
    }
   ],
   "source": [
    "#BUBBLE SORT EASY\n",
    "nums = [2, 5, 4, 1, 6 , 7, 1]\n",
    "\n",
    "for _ in range(len(nums) - 1):\n",
    "    for i in range(len(nums) - 1):\n",
    "        if nums[i] > nums[i+1]:\n",
    "            nums[i], nums[i+1] = nums[i+1], nums[i]\n",
    "\n",
    "\n",
    "print(nums)"
   ]
  },
  {
   "cell_type": "code",
   "execution_count": 4,
   "metadata": {},
   "outputs": [
    {
     "name": "stdout",
     "output_type": "stream",
     "text": [
      "[1, 1, 2, 4, 5, 6, 7]\n"
     ]
    }
   ],
   "source": [
    "#INSERTION SORT EASY\n",
    "nums = [2, 5, 4, 1, 6 , 7, 1]\n",
    "\n",
    "for i in range(1, len(nums)):\n",
    "    cur = nums[i]\n",
    "\n",
    "    while nums[i-1]>cur and i>0:\n",
    "        nums[i], nums[i-1] = nums[i-1], nums[i]\n",
    "        i -= 1\n",
    "    \n",
    "print(nums)\n"
   ]
  },
  {
   "cell_type": "markdown",
   "metadata": {},
   "source": [
    "\n",
    "Here's a visual representation of the strategy:\n",
    "\n",
    "![](https://www.educative.io/api/edpresso/shot/5327356208087040/image/6475288173084672)"
   ]
  },
  {
   "cell_type": "markdown",
   "metadata": {},
   "source": [
    "\n",
    "Following a visual representation of the divide and conquer applied for sorting numbers. This algorithm is known as merge sort:\n",
    "\n",
    "\n",
    "<img src=\"https://upload.wikimedia.org/wikipedia/commons/thumb/e/e6/Merge_sort_algorithm_diagram.svg/2560px-Merge_sort_algorithm_diagram.svg.png\" width=\"480\">\n"
   ]
  },
  {
   "cell_type": "code",
   "execution_count": 17,
   "metadata": {},
   "outputs": [
    {
     "name": "stdout",
     "output_type": "stream",
     "text": [
      "[1, 1, 2, 4, 5, 6, 7]\n"
     ]
    }
   ],
   "source": [
    "#MERGE SORT EASY\n",
    "\n",
    "def merge(left, right):\n",
    "    result = []\n",
    "    i, j = 0, 0 \n",
    "\n",
    "    #we are running this loop till both the arrays are exhausted\n",
    "    while i < len(left) and j < len(right):\n",
    "        if left[i] <= right[j]:\n",
    "            result.append(left[i])\n",
    "            i+=1\n",
    "        else:\n",
    "            result.append(right[j])\n",
    "            j+=1\n",
    "    \n",
    "    #now after the elements are exhausted we simply append all the elements to the result which are in the left or right array\n",
    "    result += left[i:]\n",
    "    result += right[j:]\n",
    "\n",
    "    return result\n",
    "            \n",
    "\n",
    "#merge function\n",
    "\n",
    "def merge_sort(l):\n",
    "    #check if the array is already sorted\n",
    "    if(len(l)<=1):\n",
    "        return l\n",
    "\n",
    "    #get the mid element\n",
    "    mid = int(len(l)/2)\n",
    "\n",
    "    #get the left array till mid\n",
    "    left = merge_sort(l[:mid])\n",
    "    \n",
    "    #get the right array from mid\n",
    "    right = merge_sort(l[mid:])\n",
    "\n",
    "    #return\n",
    "    return merge(left, right)\n",
    "\n",
    "\n",
    "nums = [2, 5, 4, 1, 6 , 7, 1]\n",
    "print(merge_sort(nums))"
   ]
  },
  {
   "cell_type": "code",
   "execution_count": null,
   "metadata": {},
   "outputs": [],
   "source": []
  }
 ],
 "metadata": {
  "kernelspec": {
   "display_name": "base",
   "language": "python",
   "name": "python3"
  },
  "language_info": {
   "codemirror_mode": {
    "name": "ipython",
    "version": 3
   },
   "file_extension": ".py",
   "mimetype": "text/x-python",
   "name": "python",
   "nbconvert_exporter": "python",
   "pygments_lexer": "ipython3",
   "version": "3.9.13"
  },
  "orig_nbformat": 4
 },
 "nbformat": 4,
 "nbformat_minor": 2
}
