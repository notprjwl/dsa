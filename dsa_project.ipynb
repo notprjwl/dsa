{
 "cells": [
  {
   "cell_type": "code",
   "execution_count": 33,
   "metadata": {},
   "outputs": [
    {
     "name": "stdout",
     "output_type": "stream",
     "text": [
      "[0, 0, 0]\n",
      "[0, 0, 0]\n",
      "[0, 0, 0]\n",
      "1\n"
     ]
    }
   ],
   "source": [
    "def eliminate_maximum(dist, speed):\n",
    "    n = len(dist)\n",
    "    min_reach = [0]*n\n",
    "    for i in range(n):\n",
    "        min_reach[i] = (dist[i]-1) // speed[i]\n",
    "        print(min_reach)\n",
    "    min_reach.sort()\n",
    "    for minute in range(len(min_reach)):\n",
    "        if minute > min_reach[minute]:\n",
    "            return minute\n",
    "    return n \n",
    "\n",
    "result = eliminate_maximum([2, 2, 2], [2, 2, 2])\n",
    "print(result)\n"
   ]
  },
  {
   "cell_type": "code",
   "execution_count": 28,
   "metadata": {},
   "outputs": [
    {
     "name": "stdout",
     "output_type": "stream",
     "text": [
      "[0, 0, 0]\n",
      "[0, 0, 0]\n",
      "[0, 0, 1]\n"
     ]
    }
   ],
   "source": [
    "dist = [1, 10, 20, 30]\n",
    "speed = [5, 3, 2]\n",
    "n = len(dist)\n",
    "min_reach = [0]*n\n",
    "for i in range(n):\n",
    "    min_reach[i] = (dist[i]-1) // speed[i]\n",
    "    print(min_reach)\n",
    "\n",
    "min_reach.sort()\n",
    "for minute in range(len(min_reach)):\n",
    "    if minute > min"
   ]
  },
  {
   "cell_type": "code",
   "execution_count": null,
   "metadata": {},
   "outputs": [],
   "source": []
  }
 ],
 "metadata": {
  "kernelspec": {
   "display_name": "base",
   "language": "python",
   "name": "python3"
  },
  "language_info": {
   "codemirror_mode": {
    "name": "ipython",
    "version": 3
   },
   "file_extension": ".py",
   "mimetype": "text/x-python",
   "name": "python",
   "nbconvert_exporter": "python",
   "pygments_lexer": "ipython3",
   "version": "2022.10.0"
  }
 },
 "nbformat": 4,
 "nbformat_minor": 2
}
