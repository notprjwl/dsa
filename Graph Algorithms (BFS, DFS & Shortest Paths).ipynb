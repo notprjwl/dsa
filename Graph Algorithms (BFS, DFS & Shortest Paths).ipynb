{
 "cells": [
  {
   "cell_type": "code",
   "execution_count": 2,
   "metadata": {},
   "outputs": [
    {
     "data": {
      "text/html": [
       "<img src=\"https://media.geeksforgeeks.org/wp-content/cdn-uploads/undirectedgraph.png\"/>"
      ],
      "text/plain": [
       "<IPython.core.display.Image object>"
      ]
     },
     "execution_count": 2,
     "metadata": {},
     "output_type": "execute_result"
    }
   ],
   "source": [
    "from IPython.display import Image \n",
    "Image(url=\"https://media.geeksforgeeks.org/wp-content/cdn-uploads/undirectedgraph.png\") "
   ]
  },
  {
   "cell_type": "code",
   "execution_count": 3,
   "metadata": {},
   "outputs": [
    {
     "data": {
      "text/plain": [
       "(5, 7)"
      ]
     },
     "execution_count": 3,
     "metadata": {},
     "output_type": "execute_result"
    }
   ],
   "source": [
    "nodes = 5\n",
    "edges = [(0,1), (0,4), (1,2), (1,3), (1,4), (2,3), (3,4)]\n",
    "nodes, len(edges)"
   ]
  },
  {
   "cell_type": "code",
   "execution_count": 4,
   "metadata": {},
   "outputs": [
    {
     "data": {
      "text/plain": [
       "[[], [], [], [], [], [], [], [], [], []]"
      ]
     },
     "execution_count": 4,
     "metadata": {},
     "output_type": "execute_result"
    }
   ],
   "source": [
    "l1 = [[]] * 10\n",
    "l1"
   ]
  },
  {
   "cell_type": "code",
   "execution_count": 5,
   "metadata": {},
   "outputs": [
    {
     "data": {
      "text/plain": [
       "[[1], [1], [1], [1], [1], [1], [1], [1], [1], [1]]"
      ]
     },
     "execution_count": 5,
     "metadata": {},
     "output_type": "execute_result"
    }
   ],
   "source": [
    "l1[0].append(1)\n",
    "l1"
   ]
  },
  {
   "cell_type": "code",
   "execution_count": 6,
   "metadata": {},
   "outputs": [
    {
     "data": {
      "text/plain": [
       "[[], [], [], [], [], [], [], [], [], []]"
      ]
     },
     "execution_count": 6,
     "metadata": {},
     "output_type": "execute_result"
    }
   ],
   "source": [
    "l2 = [[] for _ in range(10)]\n",
    "l2"
   ]
  },
  {
   "cell_type": "code",
   "execution_count": 7,
   "metadata": {},
   "outputs": [
    {
     "data": {
      "text/plain": [
       "[[1], [], [], [], [], [], [], [], [], []]"
      ]
     },
     "execution_count": 7,
     "metadata": {},
     "output_type": "execute_result"
    }
   ],
   "source": [
    "l2[0].append(1)\n",
    "l2"
   ]
  },
  {
   "cell_type": "code",
   "execution_count": 8,
   "metadata": {},
   "outputs": [
    {
     "name": "stdout",
     "output_type": "stream",
     "text": [
      "n1:  0 n2:  1\n",
      "n1:  0 n2:  4\n",
      "n1:  1 n2:  2\n",
      "n1:  1 n2:  3\n",
      "n1:  1 n2:  4\n",
      "n1:  2 n2:  3\n",
      "n1:  3 n2:  4\n"
     ]
    }
   ],
   "source": [
    "for n1, n2 in edges:\n",
    "    print('n1: ', n1, 'n2: ', n2)"
   ]
  },
  {
   "cell_type": "code",
   "execution_count": 14,
   "metadata": {},
   "outputs": [],
   "source": [
    "class Graph:\n",
    "    def __init__(self, nodes, edges):\n",
    "        self.nodes = nodes\n",
    "        self.edges = edges\n",
    "        self.data =  [[] for _ in range(nodes)]\n",
    "        for n1, n2 in self.edges:\n",
    "            self.data[n1].append(n2)\n",
    "            self.data[n2].append(n1)\n",
    "            \n",
    "    def __repr__(self):\n",
    "        return \"\\n\".join([f\"{n}:{neighbours}\"  for n, neighbours in enumerate(self.data)])\n",
    "    \n",
    "    def __str__(self):\n",
    "        return self.__repr__()\n",
    "    \n",
    "    #add edge\n",
    "    def edge(self, n1, n2):\n",
    "        self.edges.append(n1,n2)\n",
    "        self.data[n1].append(n2)\n",
    "        self.data[n2].append(n1)"
   ]
  },
  {
   "cell_type": "code",
   "execution_count": 10,
   "metadata": {},
   "outputs": [
    {
     "data": {
      "text/plain": [
       "0: [1, 4]\n",
       "1: [0, 2, 3, 4]\n",
       "2: [1, 3]\n",
       "3: [1, 2, 4]\n",
       "4: [0, 1, 3]"
      ]
     },
     "execution_count": 10,
     "metadata": {},
     "output_type": "execute_result"
    }
   ],
   "source": [
    "graph1 = Graph(nodes, edges)\n",
    "graph1"
   ]
  },
  {
   "cell_type": "code",
   "execution_count": 11,
   "metadata": {},
   "outputs": [
    {
     "data": {
      "text/plain": [
       "[[0, 0, 0, 0, 0],\n",
       " [0, 0, 0, 0, 0],\n",
       " [0, 0, 0, 0, 0],\n",
       " [0, 0, 0, 0, 0],\n",
       " [0, 0, 0, 0, 0]]"
      ]
     },
     "execution_count": 11,
     "metadata": {},
     "output_type": "execute_result"
    }
   ],
   "source": [
    "#adjacency matrix\n",
    "arr = [[0 for j in range(nodes)] for i in range(nodes)]\n",
    "arr"
   ]
  },
  {
   "cell_type": "code",
   "execution_count": 12,
   "metadata": {},
   "outputs": [
    {
     "data": {
      "text/plain": [
       "[[0, 1, 0, 0, 1],\n",
       " [1, 0, 1, 1, 1],\n",
       " [0, 1, 0, 1, 0],\n",
       " [0, 1, 1, 0, 1],\n",
       " [1, 1, 0, 1, 0]]"
      ]
     },
     "execution_count": 12,
     "metadata": {},
     "output_type": "execute_result"
    }
   ],
   "source": [
    "for n1, n2 in edges:\n",
    "    arr[n1][n2] = 1\n",
    "    arr[n2][n1] = 1\n",
    "arr"
   ]
  },
  {
   "cell_type": "code",
   "execution_count": 15,
   "metadata": {},
   "outputs": [],
   "source": [
    "#BFS - Breadth First Search\n",
    "\n",
    "# Implementation of BFS:\n",
    "def bfs(graph , root):\n",
    "    # Initializing the attributes of BFS\n",
    "    queue = []\n",
    "    discovered = [False] * len(graph.data)\n",
    "    distance = [None] * len(graph.data)\n",
    "    parent = [None] * len(graph.data)\n",
    "    \n",
    "    # Set root as discovered\n",
    "    discovered[root] = True\n",
    "    \n",
    "    # Distance to root from itself is 0\n",
    "    distance[root] = 0\n",
    "    \n",
    "    # Append the root to the queue, or enqueue the root node.\n",
    "    queue.append(root)\n",
    "    print(queue)\n",
    "    \n",
    "    # Set idx=0 since the first node in the list\n",
    "    idx = 0 \n",
    "    \n",
    "    # Now check the neighbours to discover the graph.\n",
    "    while idx < len(queue):\n",
    "        # deque operation\n",
    "        current = queue[idx]\n",
    "        idx += 1\n",
    "        \n",
    "        # check all edges of current node where node is the idx of the graph.data object.\n",
    "        for node in graph.data[current]:\n",
    "            \n",
    "            # If the node has not been visited yet, discover it, increment the distance and add it to the queue\n",
    "            if not discovered[node]:\n",
    "                discovered[node] = True\n",
    "                distance[node] = 1 + distance[current]\n",
    "                parent[node] = current\n",
    "                queue.append(node)\n",
    "        print(f\"Queue:{queue} , Idx:{idx}\")\n",
    "                \n",
    "    return queue, distance , parent\n",
    "\n",
    "# def connected(graph):\n",
    "#     num_nodes = len(graph)\n",
    "#     discovered = bfs(graph, 0)  # Start BFS from node 0.\n",
    "#     return len([node for node in discovered if node]) == num_nodes\n",
    "\n"
   ]
  },
  {
   "cell_type": "code",
   "execution_count": 16,
   "metadata": {},
   "outputs": [
    {
     "name": "stdout",
     "output_type": "stream",
     "text": [
      "[4]\n",
      "Queue:[4, 0, 1, 3] , Idx:1\n",
      "Queue:[4, 0, 1, 3] , Idx:2\n",
      "Queue:[4, 0, 1, 3, 2] , Idx:3\n",
      "Queue:[4, 0, 1, 3, 2] , Idx:4\n",
      "Queue:[4, 0, 1, 3, 2] , Idx:5\n"
     ]
    },
    {
     "data": {
      "text/plain": [
       "([4, 0, 1, 3, 2], [1, 1, 2, 1, 0], [4, 4, 1, 4, None])"
      ]
     },
     "execution_count": 16,
     "metadata": {},
     "output_type": "execute_result"
    }
   ],
   "source": [
    "bfs(graph1, 4)"
   ]
  },
  {
   "cell_type": "markdown",
   "metadata": {},
   "source": [
    "## DFS - Depth First Search\n",
    "![](https://upload.wikimedia.org/wikipedia/commons/thumb/7/7f/Depth-First-Search.gif/440px-Depth-First-Search.gif)"
   ]
  },
  {
   "cell_type": "code",
   "execution_count": null,
   "metadata": {},
   "outputs": [],
   "source": [
    "#DFS - Depth First Search\n",
    "#Algorithm\n",
    "# procedure DFS_iterative(G, v) is\n",
    "#     let S be a stack\n",
    "#     S.push(v)\n",
    "#     while S is not empty do\n",
    "#         v = S.pop()\n",
    "#         if v is not labeled as discovered then\n",
    "#             label v as discovered\n",
    "#             for all edges from v to w in G.adjacentEdges(v) do \n",
    "#                 S.push(w)"
   ]
  },
  {
   "cell_type": "markdown",
   "metadata": {},
   "source": [
    "<img src=\"https://cdn.programiz.com/sites/tutorial2program/files/stack.png\" width=\"400\">"
   ]
  },
  {
   "cell_type": "code",
   "execution_count": 17,
   "metadata": {},
   "outputs": [],
   "source": [
    "#DFS - Depth First Search\n",
    "def dfs(graph, root):\n",
    "    stack = []\n",
    "    discovered = [False] * len(graph.data)\n",
    "    result = []\n",
    "    \n",
    "    # In depth first, we do not discover \n",
    "    stack.append(root)\n",
    "    print(f\"Initial:{stack}\")\n",
    "    while len(stack) > 0:\n",
    "        current = stack.pop()\n",
    "        print(f\"Popped :{current}\")\n",
    "        if not discovered[current]:\n",
    "            discovered[current] = True\n",
    "            result.append(current)\n",
    "            \n",
    "            # Main logic \n",
    "            for node in graph.data[current]:\n",
    "                if not discovered[node]:\n",
    "                    stack.append(node)\n",
    "            print(f\"Stack:{stack}\")\n",
    "            print(f\"Discovered list :{discovered}\")\n",
    "    return result"
   ]
  },
  {
   "cell_type": "code",
   "execution_count": 18,
   "metadata": {},
   "outputs": [
    {
     "data": {
      "text/plain": [
       "0: [1, 4]\n",
       "1: [0, 2, 3, 4]\n",
       "2: [1, 3]\n",
       "3: [1, 2, 4]\n",
       "4: [0, 1, 3]"
      ]
     },
     "execution_count": 18,
     "metadata": {},
     "output_type": "execute_result"
    }
   ],
   "source": [
    "graph1"
   ]
  },
  {
   "cell_type": "code",
   "execution_count": 19,
   "metadata": {},
   "outputs": [
    {
     "name": "stdout",
     "output_type": "stream",
     "text": [
      "Initial:[3]\n",
      "Popped :3\n",
      "Stack:[1, 2, 4]\n",
      "Discovered list :[False, False, False, True, False]\n",
      "Popped :4\n",
      "Stack:[1, 2, 0, 1]\n",
      "Discovered list :[False, False, False, True, True]\n",
      "Popped :1\n",
      "Stack:[1, 2, 0, 0, 2]\n",
      "Discovered list :[False, True, False, True, True]\n",
      "Popped :2\n",
      "Stack:[1, 2, 0, 0]\n",
      "Discovered list :[False, True, True, True, True]\n",
      "Popped :0\n",
      "Stack:[1, 2, 0]\n",
      "Discovered list :[True, True, True, True, True]\n",
      "Popped :0\n",
      "Popped :2\n",
      "Popped :1\n"
     ]
    },
    {
     "data": {
      "text/plain": [
       "[3, 4, 1, 2, 0]"
      ]
     },
     "execution_count": 19,
     "metadata": {},
     "output_type": "execute_result"
    }
   ],
   "source": [
    "dfs(graph1,3)"
   ]
  },
  {
   "cell_type": "markdown",
   "metadata": {},
   "source": [
    "### Weighted Graphs\n",
    "\n",
    "![](https://i.imgur.com/wy7ZHRW.png)\n"
   ]
  },
  {
   "cell_type": "code",
   "execution_count": 20,
   "metadata": {},
   "outputs": [
    {
     "data": {
      "text/plain": [
       "(9, 10)"
      ]
     },
     "execution_count": 20,
     "metadata": {},
     "output_type": "execute_result"
    }
   ],
   "source": [
    "# Graph with weights\n",
    "num_nodes5 = 9\n",
    "edges5 = [(0, 1, 3), (0, 3, 2), (0, 8, 4), (1, 7, 4), (2, 7, 2), (2, 3, 6), \n",
    "          (2, 5, 1), (3, 4, 1), (4, 8, 8), (5, 6, 8)]\n",
    "\n",
    "num_nodes5, len(edges5)"
   ]
  },
  {
   "cell_type": "markdown",
   "metadata": {},
   "source": [
    "### Directed Graphs\n",
    "\n",
    "Example: Hyperlinks\n",
    "\n",
    "<img src=\"https://i.imgur.com/8AN7EUV.png\" width=\"480\">"
   ]
  },
  {
   "cell_type": "code",
   "execution_count": 22,
   "metadata": {},
   "outputs": [
    {
     "data": {
      "text/plain": [
       "(5, 6)"
      ]
     },
     "execution_count": 22,
     "metadata": {},
     "output_type": "execute_result"
    }
   ],
   "source": [
    "num_nodes6 = 5\n",
    "edges6 = [(0, 1), (1, 2), (2, 3), (2, 4), (4, 2), (3, 0)]\n",
    "directed = True\n",
    "num_nodes6, len(edges6)"
   ]
  },
  {
   "cell_type": "code",
   "execution_count": 23,
   "metadata": {},
   "outputs": [],
   "source": [
    "# Weigthed + Directed Graphs\n",
    "class Graph:\n",
    "    def __init__(self, num_nodes, edges, directed=False, weighted=False):\n",
    "        self.num_nodes = num_nodes\n",
    "        self.directed = directed\n",
    "        self.weighted = weighted\n",
    "        self.data = [[] for _ in range(self.num_nodes)]\n",
    "        self.weight = [[] for _ in range(self.num_nodes)]\n",
    "        for edge in edges:\n",
    "            \n",
    "            if self.weighted:  \n",
    "            # It has 3 inner elements, n1,n2 ,weight\n",
    "                node1 ,node2 ,weight = edge\n",
    "                self.data[node1].append(node2)\n",
    "                self.weight[node1].append(weight)\n",
    "                if not directed:\n",
    "                    # Add the bidirection as well.\n",
    "                    self.data[node2].append(node1)\n",
    "                    self.weight[node2].append(weight)\n",
    "\n",
    "            else:\n",
    "            # It has 2 inner elements, n1,n2,\n",
    "                node1 ,node2  = edge\n",
    "                self.data[node1].append(node2)\n",
    "                if not directed:\n",
    "                    # Add the bidirection as well\n",
    "                    self.data[node2].append(node1)\n",
    "                    \n",
    "    def __repr__(self):\n",
    "        result = \"\"\n",
    "        if self.weighted:\n",
    "            for i,(nodes, weights) in enumerate(zip(self.data,self.weight)):\n",
    "                result += f\"{i}:{list(zip(nodes, weights))}\\n\"\n",
    "        else:\n",
    "            for i , nodes  in enumerate(self.data):\n",
    "                result += f\"{i}:{nodes}\\n\"\n",
    "        return result"
   ]
  },
  {
   "cell_type": "code",
   "execution_count": 25,
   "metadata": {},
   "outputs": [],
   "source": [
    "graph1 = Graph(nodes , edges)"
   ]
  },
  {
   "cell_type": "code",
   "execution_count": 26,
   "metadata": {},
   "outputs": [
    {
     "data": {
      "text/plain": [
       "0:[1, 3]\n",
       "1:[0, 2]\n",
       "2:[1, 3, 4, 4]\n",
       "3:[2, 0]\n",
       "4:[2, 2]"
      ]
     },
     "execution_count": 26,
     "metadata": {},
     "output_type": "execute_result"
    }
   ],
   "source": [
    "graph1"
   ]
  },
  {
   "cell_type": "code",
   "execution_count": 27,
   "metadata": {},
   "outputs": [],
   "source": [
    "# Graph with weigths:\n",
    "num_nodes2 = 9\n",
    "edges2 = [(0, 1, 3), (0, 3, 2), (0, 8, 4), (1, 7, 4), (2, 7, 2), (2, 3, 6), \n",
    "          (2, 5, 1), (3, 4, 1), (4, 8, 8), (5, 6, 8)]\n",
    "\n",
    "graph2 = Graph(num_nodes2, edges2, weighted=True)"
   ]
  },
  {
   "cell_type": "code",
   "execution_count": 28,
   "metadata": {},
   "outputs": [
    {
     "data": {
      "text/plain": [
       "[[1, 3, 8], [0, 7], [7, 3, 5], [0, 2, 4], [3, 8], [2, 6], [5], [1, 2], [0, 4]]"
      ]
     },
     "execution_count": 28,
     "metadata": {},
     "output_type": "execute_result"
    }
   ],
   "source": [
    "graph2.data"
   ]
  },
  {
   "cell_type": "code",
   "execution_count": 30,
   "metadata": {},
   "outputs": [
    {
     "data": {
      "text/plain": [
       "[[3, 2, 4], [3, 4], [2, 6, 1], [2, 6, 1], [1, 8], [1, 8], [8], [4, 2], [4, 8]]"
      ]
     },
     "execution_count": 30,
     "metadata": {},
     "output_type": "execute_result"
    }
   ],
   "source": [
    "graph2.weight"
   ]
  },
  {
   "cell_type": "markdown",
   "metadata": {},
   "source": [
    "## Shortest Paths\n",
    "\n",
    "\n",
    "> **Question**: Write a function to find the length of the shortest path between two nodes in a weighted directed graph.\n",
    "\n",
    "<img src=\"https://i.imgur.com/Zn5cUkO.png\" width=\"480\">\n",
    "\n",
    "\n",
    "**Dijkstra's algorithm (Wikipedia)**:\n",
    "\n",
    "![](https://upload.wikimedia.org/wikipedia/commons/5/57/Dijkstra_Animation.gif)\n",
    "\n",
    "1. Mark all nodes unvisited. Create a set of all the unvisited nodes called the unvisited set.\n",
    "2. Assign to every node a tentative distance value: set it to zero for our initial node and to infinity for all other nodes. Set the initial node as current.[16]\n",
    "3. For the current node, consider all of its unvisited neighbours and calculate their tentative distances through the current node. Compare the newly calculated tentative distance to the current assigned value and assign the smaller one. For example, if the current node A is marked with a distance of 6, and the edge connecting it with a neighbour B has length 2, then the distance to B through A will be 6 + 2 = 8. If B was previously marked with a distance greater than 8 then change it to 8. Otherwise, the current value will be kept.\n",
    "4. When we are done considering all of the unvisited neighbours of the current node, mark the current node as visited and remove it from the unvisited set. A visited node will never be checked again.\n",
    "5. If the destination node has been marked visited (when planning a route between two specific nodes) or if the smallest tentative distance among the nodes in the unvisited set is infinity (when planning a complete traversal; occurs when there is no connection between the initial node and remaining unvisited nodes), then stop. The algorithm has finished.\n",
    "6. Otherwise, select the unvisited node that is marked with the smallest tentative distance, set it as the new \"current node\", and go back to step 3."
   ]
  },
  {
   "cell_type": "code",
   "execution_count": 32,
   "metadata": {},
   "outputs": [],
   "source": [
    "def shortest_path(graph, source, target):\n",
    "    visited = [False] * len(graph.data)\n",
    "    parent = [None] * len(graph.data)\n",
    "    distance = [float('inf')] * len(graph.data)\n",
    "    queue = []\n",
    "    \n",
    "    # Distance to be marked for source\n",
    "    distance[source] = 0\n",
    "    queue.append(source)\n",
    "    idx = 0\n",
    "    \n",
    "    while idx < len(queue) and not visited[target]:\n",
    "        current = queue[idx]\n",
    "        idx += 1\n",
    "        visited[current] = True\n",
    "        # Update distance of all the neigbours\n",
    "        update_distances( graph, current ,distance, parent)\n",
    "        \n",
    "        # Find the first unvisited node with smalled node\n",
    "        next_node = pick_next_node(distance, visited)\n",
    "        if next_node:\n",
    "            queue.append(next_node)\n",
    "            \n",
    "    return distance[target], parent\n",
    "\n",
    "def update_distances(graph, current, distance, parent=None):\n",
    "    \"\"\"Update the distances of the current node's neighbors\"\"\"\n",
    "    neighbors = graph.data[current]\n",
    "    weights = graph.weight[current]\n",
    "    for i, node in enumerate(neighbors):\n",
    "        weight = weights[i]\n",
    "        if distance[current] + weight < distance[node]:\n",
    "            distance[node] = distance[current] + weight\n",
    "            if parent:\n",
    "                parent[node] = current\n",
    "\n",
    "def pick_next_node(distance, visited):\n",
    "    \"\"\"Pick the next univisited node at the smallest distance\"\"\"\n",
    "    min_distance = float('inf')\n",
    "    min_node = None\n",
    "    for node in range(len(distance)):\n",
    "        if not visited[node] and distance[node] < min_distance:\n",
    "            min_node = node\n",
    "            min_distance = distance[node]\n",
    "    return min_node"
   ]
  },
  {
   "cell_type": "code",
   "execution_count": 33,
   "metadata": {},
   "outputs": [
    {
     "data": {
      "text/plain": [
       "(6, 7)"
      ]
     },
     "execution_count": 33,
     "metadata": {},
     "output_type": "execute_result"
    }
   ],
   "source": [
    "num_nodes7 = 6\n",
    "edges7 = [(0, 1, 4), (0, 2, 2), (1, 2, 5), (1, 3, 10), (2, 4, 3), (4, 3, 4), (3, 5, 11)]\n",
    "num_nodes7, len(edges7)"
   ]
  },
  {
   "cell_type": "code",
   "execution_count": 34,
   "metadata": {},
   "outputs": [
    {
     "data": {
      "text/plain": [
       "0:[(1, 4), (2, 2)]\n",
       "1:[(2, 5), (3, 10)]\n",
       "2:[(4, 3)]\n",
       "3:[(5, 11)]\n",
       "4:[(3, 4)]\n",
       "5:[]"
      ]
     },
     "execution_count": 34,
     "metadata": {},
     "output_type": "execute_result"
    }
   ],
   "source": [
    "graph7 = Graph(num_nodes7, edges7, weighted=True, directed=True)\n",
    "graph7"
   ]
  },
  {
   "cell_type": "markdown",
   "metadata": {},
   "source": [
    "<img src=\"https://i.imgur.com/Zn5cUkO.png\" width=\"480\">"
   ]
  },
  {
   "cell_type": "code",
   "execution_count": 36,
   "metadata": {},
   "outputs": [
    {
     "data": {
      "text/plain": [
       "(20, [None, 0, 0, 4, 2, 3])"
      ]
     },
     "execution_count": 36,
     "metadata": {},
     "output_type": "execute_result"
    }
   ],
   "source": [
    "shortest_path(graph7, 0 ,5)"
   ]
  },
  {
   "cell_type": "code",
   "execution_count": 37,
   "metadata": {},
   "outputs": [],
   "source": [
    "# Get the path as well:\n",
    "# Use parent"
   ]
  },
  {
   "cell_type": "markdown",
   "metadata": {},
   "source": [
    "![](https://i.imgur.com/wy7ZHRW.png)"
   ]
  },
  {
   "cell_type": "code",
   "execution_count": 38,
   "metadata": {},
   "outputs": [
    {
     "data": {
      "text/plain": [
       "(7, [None, 0, 3, 0, 3, None, None, 1, 0])"
      ]
     },
     "execution_count": 38,
     "metadata": {},
     "output_type": "execute_result"
    }
   ],
   "source": [
    "shortest_path(graph2, 0, 7)"
   ]
  }
 ],
 "metadata": {
  "kernelspec": {
   "display_name": "base",
   "language": "python",
   "name": "python3"
  },
  "language_info": {
   "codemirror_mode": {
    "name": "ipython",
    "version": 3
   },
   "file_extension": ".py",
   "mimetype": "text/x-python",
   "name": "python",
   "nbconvert_exporter": "python",
   "pygments_lexer": "ipython3",
   "version": "3.9.13"
  }
 },
 "nbformat": 4,
 "nbformat_minor": 2
}
